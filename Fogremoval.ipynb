{
  "nbformat": 4,
  "nbformat_minor": 0,
  "metadata": {
    "colab": {
      "provenance": []
    },
    "kernelspec": {
      "name": "python3",
      "display_name": "Python 3"
    },
    "language_info": {
      "name": "python"
    }
  },
  "cells": [
    {
      "cell_type": "code",
      "execution_count": null,
      "metadata": {
        "colab": {
          "base_uri": "https://localhost:8080/"
        },
        "id": "7bdQ7hChN3ip",
        "outputId": "01eb4d5e-27bb-4ee6-9448-a0e28fe833cb"
      },
      "outputs": [
        {
          "output_type": "stream",
          "name": "stdout",
          "text": [
            "Collecting image_dehazer\n",
            "  Downloading image_dehazer-0.0.9.tar.gz (6.2 kB)\n",
            "  Preparing metadata (setup.py) ... \u001b[?25l\u001b[?25hdone\n",
            "Requirement already satisfied: numpy in /usr/local/lib/python3.10/dist-packages (from image_dehazer) (1.26.4)\n",
            "Requirement already satisfied: opencv-python in /usr/local/lib/python3.10/dist-packages (from image_dehazer) (4.10.0.84)\n",
            "Requirement already satisfied: scipy in /usr/local/lib/python3.10/dist-packages (from image_dehazer) (1.13.1)\n",
            "Building wheels for collected packages: image_dehazer\n",
            "  Building wheel for image_dehazer (setup.py) ... \u001b[?25l\u001b[?25hdone\n",
            "  Created wheel for image_dehazer: filename=image_dehazer-0.0.9-py3-none-any.whl size=6391 sha256=77a92bf91563ffdfc8b631cab58f84bb2b80cbb04ca23ce124dc598145ba2566\n",
            "  Stored in directory: /root/.cache/pip/wheels/a4/86/e5/5a8c83f9194e233c239b5cd785afb5feae0dd9a094295bb3e9\n",
            "Successfully built image_dehazer\n",
            "Installing collected packages: image_dehazer\n",
            "Successfully installed image_dehazer-0.0.9\n"
          ]
        }
      ],
      "source": [
        "!pip install image_dehazer"
      ]
    },
    {
      "cell_type": "code",
      "source": [
        "import image_dehazer\n",
        "import cv2\n",
        "from google.colab.patches import cv2_imshow\n",
        "import os\n",
        "\n",
        "airlightEstimation_windowSze=15\n",
        "boundaryConstraint_windowSze=3\n",
        "C0=20\n",
        "C1=300\n",
        "regularize_lambda=0.1\n",
        "sigma=0.5\n",
        "delta=0.85\n",
        "showHazeTrasmissionMap=False\n",
        "output_dir = '/content/drive/MyDrive/Vision/Fog-Removal/Output'\n",
        "HazeImg = cv2.imread('/content/drive/MyDrive/Vision/Fog-Removal/TestImages/3.jpg')\n",
        "HazeCorrectedImg, HazeTransmissionMap = image_dehazer.remove_haze(HazeImg,15,3,20,300,0.1,0.5,0.85,False)\n",
        "\n",
        "#cv2_imshow(HazeImg)\n",
        "#cv2_imshow(HazeCorrectedImg)\n",
        "path = os.path.join(output_dir,'3_out.jpg')\n",
        "cv2.imwrite(path,HazeCorrectedImg)"
      ],
      "metadata": {
        "colab": {
          "base_uri": "https://localhost:8080/"
        },
        "id": "iJY2wk6NOfri",
        "outputId": "bba43766-021e-49db-d01f-d033285cdfda"
      },
      "execution_count": null,
      "outputs": [
        {
          "output_type": "execute_result",
          "data": {
            "text/plain": [
              "True"
            ]
          },
          "metadata": {},
          "execution_count": 12
        }
      ]
    }
  ]
}